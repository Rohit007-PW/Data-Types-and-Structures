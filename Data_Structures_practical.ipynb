{
 "cells": [
  {
   "cell_type": "markdown",
   "id": "a9d25290-468b-48a3-b5a5-e2bc91d18307",
   "metadata": {},
   "source": [
    "# Data Types and Structures Questions Practical"
   ]
  },
  {
   "cell_type": "markdown",
   "id": "f45257b7-f41c-4654-b61f-e82d2750fe0c",
   "metadata": {},
   "source": [
    "### Q1--Write a code to create a string with your name and print it"
   ]
  },
  {
   "cell_type": "code",
   "execution_count": 1,
   "id": "13def1b5-95d8-451c-a1c4-2aeb5ba3f624",
   "metadata": {},
   "outputs": [
    {
     "name": "stdout",
     "output_type": "stream",
     "text": [
      "Rohit Maurya\n"
     ]
    }
   ],
   "source": [
    "name = \"Rohit Maurya\"\n",
    "print(name)"
   ]
  },
  {
   "cell_type": "markdown",
   "id": "8bb604c4-7019-4778-8c0c-6c96c2be4048",
   "metadata": {},
   "source": [
    "### Q2--Write a code to find the length of the string \"Hello World\""
   ]
  },
  {
   "cell_type": "code",
   "execution_count": 2,
   "id": "5dd8df47-75c4-4eb5-8d6c-d00f0c3ff4e7",
   "metadata": {},
   "outputs": [
    {
     "name": "stdout",
     "output_type": "stream",
     "text": [
      "Length of the string: 11\n"
     ]
    }
   ],
   "source": [
    "text = \"Hello World\"\n",
    "\n",
    "length = len(text)\n",
    "print(\"Length of the string:\", length)"
   ]
  },
  {
   "cell_type": "markdown",
   "id": "31e5fbaf-a172-4e92-a7e2-5c9fc9bbebda",
   "metadata": {},
   "source": [
    "### Q3--Write a code to slice the first 3 characters from the string \"Python Programming"
   ]
  },
  {
   "cell_type": "code",
   "execution_count": 3,
   "id": "ab85e59f-6f37-42e9-899c-d3941857d3d4",
   "metadata": {},
   "outputs": [
    {
     "name": "stdout",
     "output_type": "stream",
     "text": [
      "Pyt\n"
     ]
    }
   ],
   "source": [
    "text = \"Python Programming\"\n",
    "\n",
    "text1 = text[:3]\n",
    "\n",
    "print(text1)"
   ]
  },
  {
   "cell_type": "markdown",
   "id": "0055a4a1-eeaa-473a-a1e9-b5fe88e87720",
   "metadata": {},
   "source": [
    "### Q4--Write a code to convert the string \"hello\" to uppercase"
   ]
  },
  {
   "cell_type": "code",
   "execution_count": 4,
   "id": "59d411f7-d9b6-4132-9a92-5cdf215b07f4",
   "metadata": {},
   "outputs": [
    {
     "name": "stdout",
     "output_type": "stream",
     "text": [
      "HELLO\n"
     ]
    }
   ],
   "source": [
    "text = \"hello\"\n",
    "\n",
    "uppercase_text = text.upper()\n",
    "\n",
    "print(uppercase_text)"
   ]
  },
  {
   "cell_type": "markdown",
   "id": "9f97f7b1-4642-4f24-a284-eab22c45c7ae",
   "metadata": {},
   "source": [
    "### Q5--Write a code to replace the word \"apple\" with \"orange\" in the string \"I like apple\""
   ]
  },
  {
   "cell_type": "code",
   "execution_count": 5,
   "id": "62b2d8d9-33c6-4d75-a511-9e30707d8e3f",
   "metadata": {},
   "outputs": [
    {
     "name": "stdout",
     "output_type": "stream",
     "text": [
      "I like orange\n"
     ]
    }
   ],
   "source": [
    "text = \"I like apple\"\n",
    "\n",
    "new_text = text.replace(\"apple\", \"orange\")\n",
    "\n",
    "print(new_text)"
   ]
  },
  {
   "cell_type": "markdown",
   "id": "85ebfbb2-2974-4de2-98d1-283fbe252da8",
   "metadata": {},
   "source": [
    "### Q6--Write a code to create a list with numbers 1 to 5 and print it"
   ]
  },
  {
   "cell_type": "code",
   "execution_count": 6,
   "id": "ac404d42-6099-481d-912f-861928afdcdd",
   "metadata": {},
   "outputs": [
    {
     "name": "stdout",
     "output_type": "stream",
     "text": [
      "[1, 2, 3, 4, 5]\n"
     ]
    }
   ],
   "source": [
    "numbers = []\n",
    "\n",
    "for i in range(1, 6):\n",
    "    numbers.append(i)\n",
    "\n",
    "print(numbers)"
   ]
  },
  {
   "cell_type": "markdown",
   "id": "60bcfa4e-1762-452d-85dd-5467d4e25e72",
   "metadata": {},
   "source": [
    "### Q7--Write a code to append the number 10 to the list [1, 2, 3, 4]"
   ]
  },
  {
   "cell_type": "code",
   "execution_count": 7,
   "id": "e00684d5-967c-4444-9425-37c9e35091d7",
   "metadata": {},
   "outputs": [
    {
     "name": "stdout",
     "output_type": "stream",
     "text": [
      "[1, 2, 3, 4, 10]\n"
     ]
    }
   ],
   "source": [
    "numbers = [1, 2, 3, 4]\n",
    "\n",
    "numbers.append(10)\n",
    "\n",
    "print(numbers)"
   ]
  },
  {
   "cell_type": "markdown",
   "id": "2fb184ff-5333-48a1-81a4-9adfffdceff9",
   "metadata": {},
   "source": [
    "### Q8--Write a code to remove the number 3 from the list [1, 2, 3, 4, 5]"
   ]
  },
  {
   "cell_type": "code",
   "execution_count": 8,
   "id": "84df7f49-96aa-4f54-9537-bcb911aab815",
   "metadata": {},
   "outputs": [
    {
     "name": "stdout",
     "output_type": "stream",
     "text": [
      "[1, 2, 4, 5]\n"
     ]
    }
   ],
   "source": [
    "numbers = [1, 2, 3, 4, 5]\n",
    "\n",
    "numbers.remove(3)\n",
    "\n",
    "print(numbers)"
   ]
  },
  {
   "cell_type": "markdown",
   "id": "fcfa3948-24b1-4ffb-9f53-c82e322f9932",
   "metadata": {},
   "source": [
    "### Q9--Write a code to access the second element in the list ['a', 'b', 'c', 'd']"
   ]
  },
  {
   "cell_type": "code",
   "execution_count": 9,
   "id": "5b1ab846-9162-451d-a7e2-bd3f2bc7c7dc",
   "metadata": {},
   "outputs": [
    {
     "name": "stdout",
     "output_type": "stream",
     "text": [
      "b\n"
     ]
    }
   ],
   "source": [
    "letters = ['a', 'b', 'c', 'd']\n",
    "\n",
    "second_element = letters[1]\n",
    "\n",
    "print(second_element)"
   ]
  },
  {
   "cell_type": "markdown",
   "id": "3f6de9ba-2b6a-4235-b79d-df59ae6f2b2a",
   "metadata": {},
   "source": [
    "### Q10--Write a code to reverse the list [10, 20, 30, 40, 50]"
   ]
  },
  {
   "cell_type": "code",
   "execution_count": 10,
   "id": "61df07c3-7020-420d-84f1-7bfc2ca5e094",
   "metadata": {},
   "outputs": [
    {
     "name": "stdout",
     "output_type": "stream",
     "text": [
      "[50, 40, 30, 20, 10]\n"
     ]
    }
   ],
   "source": [
    "numbers = [10, 20, 30, 40, 50]\n",
    "\n",
    "reversed_numbers = numbers[::-1]\n",
    "\n",
    "print(reversed_numbers)"
   ]
  },
  {
   "cell_type": "markdown",
   "id": "72e7ba9f-91ef-4d5f-998a-74d24fba224a",
   "metadata": {},
   "source": [
    "### Q11--Write a code to create a tuple with the elements 10, 20, 30 and print it."
   ]
  },
  {
   "cell_type": "code",
   "execution_count": 11,
   "id": "303513e5-6e1b-4f1c-ba32-a2fc9c81b4cd",
   "metadata": {},
   "outputs": [
    {
     "name": "stdout",
     "output_type": "stream",
     "text": [
      "(10, 20, 30)\n"
     ]
    }
   ],
   "source": [
    "my_tuple = (10, 20, 30)\n",
    "\n",
    "print(my_tuple)"
   ]
  },
  {
   "cell_type": "markdown",
   "id": "d473db05-5f0a-4e27-a32a-0a721cce730e",
   "metadata": {},
   "source": [
    "### Q12--Write a code to access the first element of the tuple ('apple', 'banana', 'cherry')"
   ]
  },
  {
   "cell_type": "code",
   "execution_count": 12,
   "id": "fef6f8b9-94b7-45c1-8840-5527e9ddf4ab",
   "metadata": {},
   "outputs": [
    {
     "name": "stdout",
     "output_type": "stream",
     "text": [
      "apple\n"
     ]
    }
   ],
   "source": [
    "my_tuple = ('apple', 'banana', 'cherry')\n",
    "\n",
    "first_element = my_tuple[0]\n",
    "\n",
    "print(first_element)"
   ]
  },
  {
   "cell_type": "markdown",
   "id": "ddaa61f8-7ccf-4d22-bad0-417b2d22647a",
   "metadata": {},
   "source": [
    "### Q13--Write a code to count how many times the number 2 appears in the tuple (1, 2, 3, 2, 4, 2)"
   ]
  },
  {
   "cell_type": "code",
   "execution_count": 13,
   "id": "1a13c775-6d1c-4a98-acab-47851af89bf1",
   "metadata": {},
   "outputs": [
    {
     "name": "stdout",
     "output_type": "stream",
     "text": [
      "3\n"
     ]
    }
   ],
   "source": [
    "my_tuple = (1, 2, 3, 2, 4, 2)\n",
    "\n",
    "count_of_2 = my_tuple.count(2)\n",
    "\n",
    "print(count_of_2)"
   ]
  },
  {
   "cell_type": "markdown",
   "id": "d2ad0194-ef54-48ba-b7ee-3b3822addf62",
   "metadata": {},
   "source": [
    "### Q14--Write a code to find the index of the element \"cat\" in the tuple ('dog', 'cat', 'rabbit')"
   ]
  },
  {
   "cell_type": "code",
   "execution_count": 14,
   "id": "2673e038-d845-4010-a250-9dfe6880a921",
   "metadata": {},
   "outputs": [
    {
     "name": "stdout",
     "output_type": "stream",
     "text": [
      "1\n"
     ]
    }
   ],
   "source": [
    "my_tuple = ('dog', 'cat', 'rabbit')\n",
    "\n",
    "index_of_cat = my_tuple.index('cat')\n",
    "\n",
    "print(index_of_cat)"
   ]
  },
  {
   "cell_type": "markdown",
   "id": "60dcac24-7f66-4948-8577-1681c914d5f8",
   "metadata": {},
   "source": [
    "### Q15--Write a code to check if the element \"banana\" is in the tuple ('apple', 'orange', 'banana')"
   ]
  },
  {
   "cell_type": "code",
   "execution_count": 15,
   "id": "57c249b1-84d9-4aec-8cd3-a26a8fa1f7b3",
   "metadata": {},
   "outputs": [
    {
     "name": "stdout",
     "output_type": "stream",
     "text": [
      "Yes, 'banana' is in the tuple.\n"
     ]
    }
   ],
   "source": [
    "my_tuple = ('apple', 'orange', 'banana')\n",
    "\n",
    "if 'banana' in my_tuple:\n",
    "    print(\"Yes, 'banana' is in the tuple.\")\n",
    "else:\n",
    "    print(\"No, 'banana' is not in the tuple.\")\n"
   ]
  },
  {
   "cell_type": "markdown",
   "id": "639262dc-aab1-40cf-9da2-02a6fce8cc86",
   "metadata": {},
   "source": [
    "### Q16--Write a code to create a set with the elements 1, 2, 3, 4, 5 and print it."
   ]
  },
  {
   "cell_type": "code",
   "execution_count": 16,
   "id": "5b95336f-9c1e-446d-b31a-502fc685ed0f",
   "metadata": {},
   "outputs": [
    {
     "name": "stdout",
     "output_type": "stream",
     "text": [
      "{1, 2, 3, 4, 5}\n"
     ]
    }
   ],
   "source": [
    "my_set = {1, 2, 3, 4, 5}\n",
    "\n",
    "print(my_set)\n"
   ]
  },
  {
   "cell_type": "markdown",
   "id": "742ad5d4-f11e-447f-b661-5bcc5df79570",
   "metadata": {},
   "source": [
    "### Q17--Write a code to add the element 6 to the set {1, 2, 3, 4}."
   ]
  },
  {
   "cell_type": "code",
   "execution_count": 17,
   "id": "4861bb74-70ef-4aec-b023-2d7e837d4321",
   "metadata": {},
   "outputs": [
    {
     "name": "stdout",
     "output_type": "stream",
     "text": [
      "{1, 2, 3, 4, 6}\n"
     ]
    }
   ],
   "source": [
    "my_set = {1, 2, 3, 4}\n",
    "\n",
    "my_set.add(6)\n",
    "\n",
    "print(my_set)\n"
   ]
  },
  {
   "cell_type": "markdown",
   "id": "5290854b-e19c-4d1a-acc4-a0ad333811ae",
   "metadata": {},
   "source": [
    "### Q18--Write a code to create a tuple with the elements 10, 20, 30 and print it."
   ]
  },
  {
   "cell_type": "code",
   "execution_count": 18,
   "id": "ae0b865a-dc7d-4458-8250-b48a2726ba53",
   "metadata": {},
   "outputs": [
    {
     "name": "stdout",
     "output_type": "stream",
     "text": [
      "(10, 20, 30)\n"
     ]
    }
   ],
   "source": [
    "my_tuple = (10, 20, 30)\n",
    "\n",
    "print(my_tuple)\n"
   ]
  },
  {
   "cell_type": "markdown",
   "id": "61086f18-39fd-438c-8c5d-9b420b1e6011",
   "metadata": {},
   "source": [
    "### Q19--Write a code to access the first element of the tuple ('apple', 'banana', 'cherry')."
   ]
  },
  {
   "cell_type": "code",
   "execution_count": 19,
   "id": "50b429fe-09df-4328-b7ef-4b7a1ffb86a9",
   "metadata": {},
   "outputs": [
    {
     "name": "stdout",
     "output_type": "stream",
     "text": [
      "apple\n"
     ]
    }
   ],
   "source": [
    "my_tuple = ('apple', 'banana', 'cherry')\n",
    "\n",
    "first_element = my_tuple[0]\n",
    "\n",
    "print(first_element)\n",
    "\n"
   ]
  },
  {
   "cell_type": "markdown",
   "id": "a35cc2e5-28e8-4ca8-afcd-7eb2a06e5681",
   "metadata": {},
   "source": [
    "### Q20-- Write a code to count how many times the number 2 appears in the tuple (1, 2, 3, 2, 4, 2)"
   ]
  },
  {
   "cell_type": "code",
   "execution_count": 20,
   "id": "70bb1d18-d3c3-45f0-8428-2902fdf06f75",
   "metadata": {},
   "outputs": [
    {
     "name": "stdout",
     "output_type": "stream",
     "text": [
      "3\n"
     ]
    }
   ],
   "source": [
    "my_tuple = (1, 2, 3, 2, 4, 2)\n",
    "\n",
    "count_of_2 = my_tuple.count(2)\n",
    "\n",
    "print(count_of_2)\n"
   ]
  },
  {
   "cell_type": "markdown",
   "id": "843a37d2-7fe9-4b3c-9ee9-00851fa34860",
   "metadata": {},
   "source": [
    "### Q21--Write a code to find the index of the element \"cat\" in the tuple ('dog', 'cat', 'rabbit')"
   ]
  },
  {
   "cell_type": "code",
   "execution_count": 21,
   "id": "404db25c-2b2b-4b0c-92c7-be7d2dc4a389",
   "metadata": {},
   "outputs": [
    {
     "name": "stdout",
     "output_type": "stream",
     "text": [
      "1\n"
     ]
    }
   ],
   "source": [
    "my_tuple = ('dog', 'cat', 'rabbit')\n",
    "\n",
    "index_of_cat = my_tuple.index('cat')\n",
    "\n",
    "print(index_of_cat)\n"
   ]
  },
  {
   "cell_type": "markdown",
   "id": "d43ecf67-1b2a-48b4-812a-9dc0361fea43",
   "metadata": {},
   "source": [
    "### Q22--Write a code to check if the element \"banana\" is in the tuple ('apple', 'orange', 'banana')."
   ]
  },
  {
   "cell_type": "code",
   "execution_count": 22,
   "id": "bcce597f-675d-4d0d-8dd7-dd7a66a17fbc",
   "metadata": {},
   "outputs": [
    {
     "name": "stdout",
     "output_type": "stream",
     "text": [
      "Yes, 'banana' is in the tuple.\n"
     ]
    }
   ],
   "source": [
    "my_tuple = ('apple', 'orange', 'banana')\n",
    "\n",
    "if 'banana' in my_tuple:\n",
    "    print(\"Yes, 'banana' is in the tuple.\")\n",
    "else:\n",
    "    print(\"No, 'banana' is not in the tuple.\")\n"
   ]
  },
  {
   "cell_type": "markdown",
   "id": "f75b28a5-20c8-4783-bed5-c1c893f7f0c6",
   "metadata": {},
   "source": [
    "### Q23--Write a code to create a set with the elements 1, 2, 3, 4, 5 and print it"
   ]
  },
  {
   "cell_type": "code",
   "execution_count": 23,
   "id": "451d0ae3-eaa6-4d9e-ba99-3dcd91b6d68d",
   "metadata": {},
   "outputs": [
    {
     "name": "stdout",
     "output_type": "stream",
     "text": [
      "{1, 2, 3, 4, 5}\n"
     ]
    }
   ],
   "source": [
    "my_set = {1, 2, 3, 4, 5}\n",
    "\n",
    "print(my_set)\n"
   ]
  },
  {
   "cell_type": "markdown",
   "id": "10794ec4-ca98-4bef-8dd3-22c554cdabf1",
   "metadata": {},
   "source": [
    "### Q24--Write a code to add the element 6 to the set {1, 2, 3, 4}"
   ]
  },
  {
   "cell_type": "code",
   "execution_count": 24,
   "id": "2e5450ff-5728-47f1-b7d6-f6b967f8fe5c",
   "metadata": {},
   "outputs": [
    {
     "name": "stdout",
     "output_type": "stream",
     "text": [
      "{1, 2, 3, 4, 6}\n"
     ]
    }
   ],
   "source": [
    "my_set = {1, 2, 3, 4}\n",
    "\n",
    "my_set.add(6)\n",
    "\n",
    "print(my_set)\n"
   ]
  },
  {
   "cell_type": "code",
   "execution_count": null,
   "id": "26924407-73b2-4fb5-9d52-2810bd72180c",
   "metadata": {},
   "outputs": [],
   "source": []
  }
 ],
 "metadata": {
  "kernelspec": {
   "display_name": "Python 3 (ipykernel)",
   "language": "python",
   "name": "python3"
  },
  "language_info": {
   "codemirror_mode": {
    "name": "ipython",
    "version": 3
   },
   "file_extension": ".py",
   "mimetype": "text/x-python",
   "name": "python",
   "nbconvert_exporter": "python",
   "pygments_lexer": "ipython3",
   "version": "3.12.1"
  }
 },
 "nbformat": 4,
 "nbformat_minor": 5
}
